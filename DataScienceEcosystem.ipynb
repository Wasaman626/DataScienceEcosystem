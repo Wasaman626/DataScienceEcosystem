{
 "cells": [
  {
   "cell_type": "markdown",
   "id": "adac9140-5889-4a35-8f19-1a362dac91f1",
   "metadata": {
    "tags": []
   },
   "source": [
    "# Data Science Tools and Ecosystem\n"
   ]
  },
  {
   "cell_type": "markdown",
   "id": "a0d4e0e9-642b-417a-8635-af7ef629ba1e",
   "metadata": {
    "tags": []
   },
   "source": [
    "# Data Science Tools and Ecosystem\n"
   ]
  },
  {
   "cell_type": "markdown",
   "id": "121fff58-e2cb-4205-9b0f-f3f3f7b71a52",
   "metadata": {
    "tags": []
   },
   "source": [
    "In this notebook, Data Science Tools and Ecosystem are summarized"
   ]
  },
  {
   "cell_type": "markdown",
   "id": "9b2ea55a-3e25-43a7-8db2-1f683edd3bf2",
   "metadata": {
    "tags": []
   },
   "source": [
    "In this notebook, Data Science Tools and Ecosystem are summarized"
   ]
  },
  {
   "cell_type": "markdown",
   "id": "40644b90-c1a6-4ce1-92df-3d69b34eeb91",
   "metadata": {},
   "source": [
    "**Objectives**\n",
    "- List popular languages for Data Science\n",
    "- List popular libraries for Data Science\n",
    "- Insert code and markdown cells\n",
    "- Evaluating arithmetic expressions\n",
    "- Creating tables with content"
   ]
  },
  {
   "cell_type": "markdown",
   "id": "f286bff9-cdbc-4473-8f19-84a5b0daa0be",
   "metadata": {},
   "source": [
    "**Objectives**\n",
    "- List popular languages for Data Science\n",
    "- List popular libraries for Data Science\n",
    "- Insert code and markdown cells\n",
    "- Evaluating arithmetic expressions\n",
    "- Creating tables with content"
   ]
  },
  {
   "cell_type": "markdown",
   "id": "66247eb5-2689-4865-b054-f09219299ddf",
   "metadata": {},
   "source": [
    "Some of the popular languages that Data Scientist use are:\n",
    "1. Python\n",
    "2. SQL\n",
    "3. R\n",
    "4. Scala\n",
    "5. MATLAB\n",
    "6. Julia"
   ]
  },
  {
   "cell_type": "markdown",
   "id": "dd8e5d12-fe7f-4000-9695-f51d13342add",
   "metadata": {},
   "source": [
    "Some of the popular languages that Data Scientist use are:\n",
    "1. Python\n",
    "2. SQL\n",
    "3. R\n",
    "4. Scala\n",
    "5. MATLAB\n",
    "6. Julia"
   ]
  },
  {
   "cell_type": "markdown",
   "id": "1a2b6685-7352-406d-bbff-fb672d753a77",
   "metadata": {},
   "source": [
    "Some of the commonly used libraries used by Data Scientist include:\n",
    "1. NLTK\n",
    "2. spaCy\n",
    "3. Matplotlib\n",
    "4. NumPy\n",
    "5. Pandas\n",
    "6. Scikit-learn"
   ]
  },
  {
   "cell_type": "markdown",
   "id": "1d47f34d-c530-48e7-800d-78cf96285a86",
   "metadata": {},
   "source": [
    "Some of the commonly used libraries used by Data Scientist include:\n",
    "1. NLTK\n",
    "2. spaCy\n",
    "3. Matplotlib\n",
    "4. NumPy\n",
    "5. Pandas\n",
    "6. Scikit-learn"
   ]
  },
  {
   "cell_type": "markdown",
   "id": "60091e48-d731-40b1-b0a1-050a1ae8e082",
   "metadata": {
    "tags": []
   },
   "source": [
    "| Data Science Tools|\n",
    "--------\n",
    "|RStudio|\n",
    "|Python|\n",
    "|Jupyter Notebook|"
   ]
  },
  {
   "cell_type": "markdown",
   "id": "614f7642-3b5f-4b5c-b934-9ffb98c5519b",
   "metadata": {
    "tags": []
   },
   "source": [
    "| Data Science Tools|\n",
    "--------\n",
    "|RStudio|\n",
    "|Python|\n",
    "|Jupyter Notebook|"
   ]
  },
  {
   "cell_type": "markdown",
   "id": "f1b192f0-6846-40d0-a1e7-0976e6652a5c",
   "metadata": {},
   "source": [
    "### Below are a few examples of evaluating arithmetic expressions in Python"
   ]
  },
  {
   "cell_type": "markdown",
   "id": "cfaec050-c5be-4195-8440-6ee39ba55fd6",
   "metadata": {},
   "source": [
    "### Below are a few examples of evaluating arithmetic expressions in Python"
   ]
  },
  {
   "cell_type": "code",
   "execution_count": 3,
   "id": "dfc079ac-cfa7-46ec-b529-45a0c13b9c98",
   "metadata": {
    "tags": []
   },
   "outputs": [
    {
     "data": {
      "text/plain": [
       "17"
      ]
     },
     "execution_count": 3,
     "metadata": {},
     "output_type": "execute_result"
    }
   ],
   "source": [
    "# This is a simple arithmetic expression to multiply then add integers\n",
    "\n",
    "(3*4)+5"
   ]
  },
  {
   "cell_type": "code",
   "execution_count": 4,
   "id": "ef2fba98-134f-4ed8-b1a5-dc27a1818aa4",
   "metadata": {
    "tags": []
   },
   "outputs": [
    {
     "data": {
      "text/plain": [
       "3.3333333333333335"
      ]
     },
     "execution_count": 4,
     "metadata": {},
     "output_type": "execute_result"
    }
   ],
   "source": [
    "# This will convert 200 minutes to hours by dividing by 60.\n",
    "\n",
    "200/60"
   ]
  },
  {
   "cell_type": "markdown",
   "id": "c07e095f-83f9-43b1-918b-a5a2cd091ed2",
   "metadata": {},
   "source": [
    "## Author\n",
    "Sebastián Ignacio Chevalier Chevalier"
   ]
  },
  {
   "cell_type": "markdown",
   "id": "08bf30c6-1e4f-435d-8e0a-ea4257f99fd9",
   "metadata": {},
   "source": [
    "## Author\n",
    "Sebastián Ignacio Chevalier Chevalier"
   ]
  }
 ],
 "metadata": {
  "kernelspec": {
   "display_name": "Python",
   "language": "python",
   "name": "conda-env-python-py"
  },
  "language_info": {
   "codemirror_mode": {
    "name": "ipython",
    "version": 3
   },
   "file_extension": ".py",
   "mimetype": "text/x-python",
   "name": "python",
   "nbconvert_exporter": "python",
   "pygments_lexer": "ipython3",
   "version": "3.7.12"
  }
 },
 "nbformat": 4,
 "nbformat_minor": 5
}
